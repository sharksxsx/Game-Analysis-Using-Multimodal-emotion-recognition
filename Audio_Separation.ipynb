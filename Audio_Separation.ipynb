{
  "nbformat": 4,
  "nbformat_minor": 0,
  "metadata": {
    "colab": {
      "provenance": []
    },
    "kernelspec": {
      "name": "python3",
      "display_name": "Python 3"
    },
    "language_info": {
      "name": "python"
    }
  },
  "cells": [
    {
      "cell_type": "code",
      "execution_count": null,
      "metadata": {
        "id": "BtImMnv8sXi0"
      },
      "outputs": [],
      "source": [
        "# Import necessary libraries\n",
        "from spleeter.separator import Separator\n",
        "import os\n",
        "\n",
        "# Step 4: Upload the audio file\n",
        "from google.colab import files\n",
        "uploaded = files.upload()\n",
        "\n",
        "# Step 5: Save the uploaded file\n",
        "for filename in uploaded.keys():\n",
        "    input_audio_path = filename\n",
        "\n",
        "# Step 6: Initialize Spleeter with the 2stems model (vocals and accompaniment)\n",
        "separator = Separator('spleeter:2stems')\n",
        "\n",
        "# Step 7: Set the output directory\n",
        "output_directory = '/content/output_directory'\n",
        "\n",
        "# Create output directory if it doesn't exist\n",
        "if not os.path.exists(output_directory):\n",
        "    os.makedirs(output_directory)\n",
        "\n",
        "# Step 8: Separate the audio file\n",
        "separator.separate_to_file(input_audio_path, output_directory)\n",
        "\n",
        "# Inform the user of the completion and location of the output\n",
        "print(f\"Separated audio files saved in {output_directory}\")\n",
        "\n",
        "# Step 9: Download the separated files\n",
        "import shutil\n",
        "shutil.make_archive(output_directory, 'zip', output_directory)\n",
        "files.download(output_directory + '.zip')"
      ]
    }
  ]
}